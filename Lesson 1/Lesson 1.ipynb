{
 "cells": [
  {
   "cell_type": "code",
   "execution_count": 30,
   "id": "strange-extent",
   "metadata": {
    "ExecuteTime": {
     "end_time": "2023-09-18T15:27:57.736299Z",
     "start_time": "2023-09-18T15:27:57.720686Z"
    }
   },
   "outputs": [
    {
     "name": "stderr",
     "output_type": "stream",
     "text": [
      "[nltk_data] Downloading package punkt to /Users/zinuret/nltk_data...\n",
      "[nltk_data]   Package punkt is already up-to-date!\n"
     ]
    },
    {
     "data": {
      "text/plain": "True"
     },
     "execution_count": 30,
     "metadata": {},
     "output_type": "execute_result"
    }
   ],
   "source": [
    "import nltk\n",
    "nltk.download('punkt')"
   ]
  },
  {
   "cell_type": "code",
   "execution_count": 31,
   "id": "vocational-brooklyn",
   "metadata": {
    "ExecuteTime": {
     "end_time": "2023-09-18T15:27:57.753525Z",
     "start_time": "2023-09-18T15:27:57.726766Z"
    }
   },
   "outputs": [],
   "source": [
    "from nltk.stem import PorterStemmer\n",
    "import pandas as pd\n",
    "from sklearn.model_selection import train_test_split\n",
    "from sklearn.metrics import classification_report"
   ]
  },
  {
   "cell_type": "code",
   "execution_count": 32,
   "id": "general-marine",
   "metadata": {
    "ExecuteTime": {
     "end_time": "2023-09-18T15:27:57.950662Z",
     "start_time": "2023-09-18T15:27:57.730944Z"
    }
   },
   "outputs": [],
   "source": [
    "# load data\n",
    "df = pd.read_csv('labeledTrainData.tsv', sep='\\t', encoding='utf-8')"
   ]
  },
  {
   "cell_type": "code",
   "execution_count": 33,
   "id": "reduced-beaver",
   "metadata": {
    "ExecuteTime": {
     "end_time": "2023-09-18T15:27:57.988891Z",
     "start_time": "2023-09-18T15:27:57.983271Z"
    }
   },
   "outputs": [
    {
     "data": {
      "text/plain": "{'id': '5814_8',\n 'sentiment': 1,\n 'review': \"With all this stuff going down at the moment with MJ i've started listening to his music, watching the odd documentary here and there, watched The Wiz and watched Moonwalker again. Maybe i just want to get a certain insight into this guy who i thought was really cool in the eighties just to maybe make up my mind whether he is guilty or innocent. Moonwalker is part biography, part feature film which i remember going to see at the cinema when it was originally released. Some of it has subtle messages about MJ's feeling towards the press and also the obvious message of drugs are bad m'kay.<br /><br />Visually impressive but of course this is all about Michael Jackson so unless you remotely like MJ in anyway then you are going to hate this and find it boring. Some may call MJ an egotist for consenting to the making of this movie BUT MJ and most of his fans would say that he made it for the fans which if true is really nice of him.<br /><br />The actual feature film bit when it finally starts is only on for 20 minutes or so excluding the Smooth Criminal sequence and Joe Pesci is convincing as a psychopathic all powerful drug lord. Why he wants MJ dead so bad is beyond me. Because MJ overheard his plans? Nah, Joe Pesci's character ranted that he wanted people to know it is he who is supplying drugs etc so i dunno, maybe he just hates MJ's music.<br /><br />Lots of cool things in this like MJ turning into a car and a robot and the whole Speed Demon sequence. Also, the director must have had the patience of a saint when it came to filming the kiddy Bad sequence as usually directors hate working with one kid let alone a whole bunch of them performing a complex dance scene.<br /><br />Bottom line, this movie is for people who like MJ on one level or another (which i think is most people). If not, then stay away. It does try and give off a wholesome message and ironically MJ's bestest buddy in this movie is a girl! Michael Jackson is truly one of the most talented people ever to grace this planet but is he guilty? Well, with all the attention i've gave this subject....hmmm well i don't know because people can be different behind closed doors, i know this for a fact. He is either an extremely nice but stupid guy or one of the most sickest liars. I hope he is not the latter.\"}"
     },
     "execution_count": 33,
     "metadata": {},
     "output_type": "execute_result"
    }
   ],
   "source": [
    "df.to_dict('records')[0]"
   ]
  },
  {
   "cell_type": "code",
   "execution_count": 34,
   "id": "radical-danger",
   "metadata": {
    "ExecuteTime": {
     "end_time": "2023-09-18T15:27:57.993344Z",
     "start_time": "2023-09-18T15:27:57.990203Z"
    }
   },
   "outputs": [],
   "source": [
    "texts = df.review.tolist()\n",
    "sentiment = df.sentiment.tolist()"
   ]
  },
  {
   "cell_type": "code",
   "execution_count": 35,
   "id": "behind-channels",
   "metadata": {
    "ExecuteTime": {
     "end_time": "2023-09-18T15:27:57.997433Z",
     "start_time": "2023-09-18T15:27:57.995528Z"
    }
   },
   "outputs": [],
   "source": [
    "from nltk.tokenize import word_tokenize\n",
    "from collections import Counter\n",
    "\n",
    "\n",
    "def space_tokenize(text):\n",
    "    return word_tokenize(text)\n",
    "    \n",
    "    \n",
    "def get_vocab(texts):\n",
    "    preprocessed_texts = [preprocess_text(text) for text in texts]\n",
    "    tokens = [token for text in preprocessed_texts for token in space_tokenize(text)]\n",
    "    word_counts = Counter(tokens)\n",
    "    sorted_words = sorted(word_counts.items(), key=lambda x: x[1], reverse=True)\n",
    "    vocab = [word for word, _ in sorted_words]\n",
    "    return vocab\n",
    "\n",
    "class BOWencoder:\n",
    "    def __init__(self, vocab=None, tokenize=space_tokenize):\n",
    "        self.vocab = vocab\n",
    "        self.vocab2idx = self.get_vocab2idx(vocab)\n",
    "        self.tokenize = tokenize\n",
    "        \n",
    "    def encode_single_text(self, text):\n",
    "        tokens = self.tokenize(text)\n",
    "        bow_vector = [0] * len(self.vocab)\n",
    "        for token in tokens:\n",
    "            if token in self.vocab2idx:\n",
    "                idx = self.vocab2idx[token]\n",
    "                bow_vector[idx] += 1          \n",
    "        return bow_vector\n",
    "        \n",
    "    def encode_texts(self, texts):\n",
    "        encoded_texts = [self.encode_single_text(text) for text in texts]\n",
    "        return encoded_texts\n",
    "        \n",
    "    def get_vocab2idx(self, vocab):\n",
    "        vocab2idx = {word: idx for idx, word in enumerate(vocab)}\n",
    "        return vocab2idx\n"
   ]
  },
  {
   "cell_type": "code",
   "execution_count": 36,
   "id": "guided-playback",
   "metadata": {
    "ExecuteTime": {
     "end_time": "2023-09-18T15:27:58.002655Z",
     "start_time": "2023-09-18T15:27:58.000646Z"
    }
   },
   "outputs": [],
   "source": [
    "class NaiveBayesClassifier:\n",
    "    def __init__(self, n_classes):\n",
    "        self.n_classes = n_classes\n",
    "        self.class_probs = {}\n",
    "        self.conditional_probabilities = {}\n",
    "        self.vocab = vocab\n",
    "    \n",
    "    def fit(self, X, y):\n",
    "        for class_label in range(self.n_classes):\n",
    "            class_indices = [i for i, label in enumerate(y) if label == class_label]\n",
    "            class_instances = [X[i] for i in class_indices]\n",
    "            self.class_probs[class_label] = len(class_instances) / len(y)\n",
    "    \n",
    "            conditional_probs = {}  # Словарь для хранения условных вероятностей\n",
    "            for feature_idx in range(len(self.vocab)):\n",
    "                feature_prob = (sum(instance[feature_idx] for instance in class_instances) + 1) / (len(class_instances) + 2)  # Пример сглаживания Лапласа\n",
    "                conditional_probs[feature_idx] = feature_prob\n",
    "            self.conditional_probabilities[class_label] = conditional_probs\n",
    "\n",
    "        \n",
    "    def predict(self, X):\n",
    "        predictions = []\n",
    "        for instance in X:\n",
    "            max_prob = -1\n",
    "            predicted_class = None\n",
    "            for class_label in range(self.n_classes):\n",
    "                class_prob = self.class_probs[class_label]\n",
    "                conditional_probs = self.conditional_probabilities[class_label]\n",
    "                instance_prob = 1.0  # Инициализируйте вероятность экземпляра\n",
    "                for feature_idx, feature_value in enumerate(instance):\n",
    "                    conditional_prob = conditional_probs.get(feature_idx, 1.0) if feature_value else 1.0\n",
    "                    instance_prob *= conditional_prob\n",
    "                class_prob *= instance_prob\n",
    "                if class_prob > max_prob:\n",
    "                    max_prob = class_prob\n",
    "                    predicted_class = class_label\n",
    "            predictions.append(predicted_class)\n",
    "        return predictions\n",
    "\n"
   ]
  },
  {
   "cell_type": "code",
   "execution_count": 37,
   "id": "mobile-entrepreneur",
   "metadata": {
    "ExecuteTime": {
     "end_time": "2023-09-18T15:29:41.810807Z",
     "start_time": "2023-09-18T15:27:58.067009Z"
    }
   },
   "outputs": [],
   "source": [
    "X_train, X_test, y_train, y_test = train_test_split(texts, sentiment)\n",
    "vocab = get_vocab(X_train)\n",
    "bow_encoder = BOWencoder(vocab=vocab)\n",
    "X_train = bow_encoder.encode_texts(X_train)\n",
    "X_test = bow_encoder.encode_texts(X_test)"
   ]
  },
  {
   "cell_type": "code",
   "execution_count": 38,
   "id": "organic-workstation",
   "metadata": {
    "ExecuteTime": {
     "end_time": "2023-09-18T15:32:12.986959Z",
     "start_time": "2023-09-18T15:29:42.001226Z"
    }
   },
   "outputs": [],
   "source": [
    "model = NaiveBayesClassifier(n_classes=2)\n",
    "model.fit(X_train, y_train)\n",
    "y_pred = model.predict(X_test)"
   ]
  },
  {
   "cell_type": "code",
   "execution_count": 39,
   "id": "direct-integer",
   "metadata": {
    "ExecuteTime": {
     "end_time": "2023-09-18T15:32:13.056320Z",
     "start_time": "2023-09-18T15:32:12.974318Z"
    }
   },
   "outputs": [
    {
     "name": "stdout",
     "output_type": "stream",
     "text": [
      "              precision    recall  f1-score   support\n",
      "\n",
      "           0       0.89      0.82      0.85      3347\n",
      "           1       0.81      0.88      0.84      2903\n",
      "\n",
      "    accuracy                           0.85      6250\n",
      "   macro avg       0.85      0.85      0.85      6250\n",
      "weighted avg       0.85      0.85      0.85      6250\n"
     ]
    }
   ],
   "source": [
    "print(classification_report(y_pred, y_test))"
   ]
  },
  {
   "cell_type": "markdown",
   "source": [
    "без стемминга\n",
    "precision    recall  f1-score   support\n",
    "\n",
    "           0       0.89      0.78      0.83      3606\n",
    "           1       0.74      0.87      0.80      2644\n",
    "\n",
    "    accuracy                           0.82      6250\n",
    "   macro avg       0.81      0.82      0.81      6250\n",
    "weighted avg       0.83      0.82      0.82      6250"
   ],
   "metadata": {
    "collapsed": false
   },
   "id": "8e03eeacc56e1a4a"
  },
  {
   "cell_type": "code",
   "execution_count": 40,
   "id": "varying-oasis",
   "metadata": {
    "ExecuteTime": {
     "end_time": "2023-09-18T15:32:13.074528Z",
     "start_time": "2023-09-18T15:32:13.072227Z"
    }
   },
   "outputs": [],
   "source": [
    " # Подключаем стеммер\n",
    "\n",
    "def preprocess_text(text):\n",
    "    tokens = word_tokenize(text)\n",
    "    stemmer = PorterStemmer()\n",
    "    stemmed_tokens = [stemmer.stem(token) for token in tokens]\n",
    "    preprocessed_text = ' '.join(stemmed_tokens)\n",
    "    return preprocessed_text\n"
   ]
  }
 ],
 "metadata": {
  "kernelspec": {
   "display_name": "Python 3",
   "language": "python",
   "name": "python3"
  },
  "language_info": {
   "codemirror_mode": {
    "name": "ipython",
    "version": 3
   },
   "file_extension": ".py",
   "mimetype": "text/x-python",
   "name": "python",
   "nbconvert_exporter": "python",
   "pygments_lexer": "ipython3",
   "version": "3.8.6"
  }
 },
 "nbformat": 4,
 "nbformat_minor": 5
}
